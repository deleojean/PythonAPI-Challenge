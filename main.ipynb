{
 "cells": [
  {
   "cell_type": "markdown",
   "metadata": {},
   "source": [
    "# WeatherPy"
   ]
  },
  {
   "cell_type": "code",
   "execution_count": 1,
   "metadata": {
    "collapsed": true
   },
   "outputs": [],
   "source": [
    "# Dependencies\n",
    "import requests\n",
    "import json\n",
    "import time\n",
    "import pandas            as pd\n",
    "import matplotlib.pyplot as plt\n",
    "import seaborn           as sns \n",
    "from   citipy import citipy\n",
    "\n",
    "# Generate and or retrieve API key from http://openweathermap.org/appid\n",
    "# Store Open Weather Map developer API key in config.py then get variable\n",
    "from config import wkey"
   ]
  },
  {
   "cell_type": "markdown",
   "metadata": {},
   "source": [
    "## Generate Cities List"
   ]
  },
  {
   "cell_type": "code",
   "execution_count": 2,
   "metadata": {},
   "outputs": [
    {
     "data": {
      "text/html": [
       "<div>\n",
       "<style>\n",
       "    .dataframe thead tr:only-child th {\n",
       "        text-align: right;\n",
       "    }\n",
       "\n",
       "    .dataframe thead th {\n",
       "        text-align: left;\n",
       "    }\n",
       "\n",
       "    .dataframe tbody tr th {\n",
       "        vertical-align: top;\n",
       "    }\n",
       "</style>\n",
       "<table border=\"1\" class=\"dataframe\">\n",
       "  <thead>\n",
       "    <tr style=\"text-align: right;\">\n",
       "      <th></th>\n",
       "      <th>City</th>\n",
       "      <th>Country</th>\n",
       "      <th>Max Temperature</th>\n",
       "      <th>Humidity</th>\n",
       "      <th>Wind Speed</th>\n",
       "      <th>Cloudiness</th>\n",
       "      <th>Longitude</th>\n",
       "      <th>Latitude</th>\n",
       "    </tr>\n",
       "  </thead>\n",
       "  <tbody>\n",
       "    <tr>\n",
       "      <th>0</th>\n",
       "      <td>vaitupu</td>\n",
       "      <td>wf</td>\n",
       "      <td>NaN</td>\n",
       "      <td>NaN</td>\n",
       "      <td>NaN</td>\n",
       "      <td>NaN</td>\n",
       "      <td>NaN</td>\n",
       "      <td>NaN</td>\n",
       "    </tr>\n",
       "    <tr>\n",
       "      <th>1</th>\n",
       "      <td>saleaula</td>\n",
       "      <td>ws</td>\n",
       "      <td>NaN</td>\n",
       "      <td>NaN</td>\n",
       "      <td>NaN</td>\n",
       "      <td>NaN</td>\n",
       "      <td>NaN</td>\n",
       "      <td>NaN</td>\n",
       "    </tr>\n",
       "    <tr>\n",
       "      <th>2</th>\n",
       "      <td>samalaeulu</td>\n",
       "      <td>ws</td>\n",
       "      <td>NaN</td>\n",
       "      <td>NaN</td>\n",
       "      <td>NaN</td>\n",
       "      <td>NaN</td>\n",
       "      <td>NaN</td>\n",
       "      <td>NaN</td>\n",
       "    </tr>\n",
       "    <tr>\n",
       "      <th>3</th>\n",
       "      <td>lufilufi</td>\n",
       "      <td>ws</td>\n",
       "      <td>NaN</td>\n",
       "      <td>NaN</td>\n",
       "      <td>NaN</td>\n",
       "      <td>NaN</td>\n",
       "      <td>NaN</td>\n",
       "      <td>NaN</td>\n",
       "    </tr>\n",
       "    <tr>\n",
       "      <th>4</th>\n",
       "      <td>samusu</td>\n",
       "      <td>ws</td>\n",
       "      <td>NaN</td>\n",
       "      <td>NaN</td>\n",
       "      <td>NaN</td>\n",
       "      <td>NaN</td>\n",
       "      <td>NaN</td>\n",
       "      <td>NaN</td>\n",
       "    </tr>\n",
       "  </tbody>\n",
       "</table>\n",
       "</div>"
      ],
      "text/plain": [
       "         City Country Max Temperature Humidity Wind Speed Cloudiness  \\\n",
       "0     vaitupu      wf             NaN      NaN        NaN        NaN   \n",
       "1    saleaula      ws             NaN      NaN        NaN        NaN   \n",
       "2  samalaeulu      ws             NaN      NaN        NaN        NaN   \n",
       "3    lufilufi      ws             NaN      NaN        NaN        NaN   \n",
       "4      samusu      ws             NaN      NaN        NaN        NaN   \n",
       "\n",
       "  Longitude Latitude  \n",
       "0       NaN      NaN  \n",
       "1       NaN      NaN  \n",
       "2       NaN      NaN  \n",
       "3       NaN      NaN  \n",
       "4       NaN      NaN  "
      ]
     },
     "execution_count": 2,
     "metadata": {},
     "output_type": "execute_result"
    }
   ],
   "source": [
    "# Find the cities nearest to the equator\n",
    "latitude   = 0\n",
    "cities     = []\n",
    "countries  = []\n",
    "columns    = ['City', 'Country', 'Max Temperature', 'Humidity', 'Wind Speed', 'Cloudiness', 'Longitude', 'Latitude']\n",
    "\n",
    "for longitude in range(-180,180): # Range is longitude left to right\n",
    "    city = citipy.nearest_city(latitude, longitude)\n",
    "    cities.append(city.city_name)\n",
    "    countries.append(city.country_code)\n",
    "\n",
    "equatorial_cities = {'City':    cities,\n",
    "                     'Country': countries}\n",
    "\n",
    "# Create dataframe, drop duplicates, and reset index\n",
    "equatorial_cities_df = pd.DataFrame(equatorial_cities, columns=columns).drop_duplicates().reset_index(drop=True)\n",
    "# Drop NaN after populating weather data\n",
    "equatorial_cities_df.head()"
   ]
  },
  {
   "cell_type": "markdown",
   "metadata": {},
   "source": [
    "## Perform API Calls"
   ]
  },
  {
   "cell_type": "code",
   "execution_count": 3,
   "metadata": {},
   "outputs": [
    {
     "name": "stdout",
     "output_type": "stream",
     "text": [
      "Beginning Data Retrieval\n",
      "--------------------------------------------------------------------------------\n",
      "\n",
      " WARNING: If you do not get a respond from server do not try to repeat your request immediately, \n",
      "          but only after 10 min. Also, we recommend to store your previous requested data.\n",
      "\n",
      "          If account exceeds the limits, then a notification about limits exceeding \n",
      "          is sent. If it repeats again, then the account is blocked for an hour. Therefore, \n",
      "          the lock period is increased by one hour until 4 hour block sets. When blocking \n",
      "          repeats the fifth time, then the lock period lasts 24 hours. This rule is cycled. \n",
      "          Please be carefull with the number of API calls you complete\n",
      "--------------------------------------------------------------------------------\n",
      "Data Retrieval Complete\n"
     ]
    }
   ],
   "source": [
    "# Find weather data of cities nearest to the equator\n",
    "base_url                = \"https://api.openweathermap.org/data/2.5/weather\"\n",
    "params                  = { \"q\": '', \"APPID\": wkey} \n",
    "weather_metrics         = '-' * 80\n",
    "use_backup_weather_data = False\n",
    "\n",
    "print(\"Beginning Data Retrieval\")\n",
    "print(weather_metrics)\n",
    "# Use iterrows to iterate through pandas dataframe\n",
    "for index, row in equatorial_cities_df.iterrows():\n",
    "\n",
    "    # Get city and country code from dataframe\n",
    "    city_and_country = f\"{row['City']},{row['Country']}\"\n",
    "\n",
    "    # Add keyword to params dict\n",
    "    params['q']      = city_and_country\n",
    "    \n",
    "    try:\n",
    "        # Assemble url and make API request\n",
    "        # response = requests.get(base_url, params=params).json()\n",
    "        # results  = response.get('cod')\n",
    "        # city     = response.get('name')\n",
    "        \n",
    "        results = 400\n",
    "        # Parse and print weather data and add to dataframe \n",
    "        if results == 200:\n",
    "            sys     = response['sys']\n",
    "            country = sys['country']\n",
    "            # weather_metrics = f\"Weather data available for equatorial city: {city}, {country}\\n\"\n",
    "            weather_metrics += f\"\\n{city}, {country}: \"\n",
    "            \n",
    "            main    = response['main']\n",
    "            temp    = 9/5 (float(main['temp_max']) - 273) + 32 # Convert Kelvin to Fahrenheit\n",
    "            humid   = main['humidity']\n",
    "            equatorial_cities_df.set_value(index, \"Max Temperature\", temp)\n",
    "            equatorial_cities_df.set_value(index, \"Humidity\",        humid)\n",
    "            weather_metrics += f\"max temp: {temp} humidity: {humid} \"\n",
    "            \n",
    "            wind    = response['wind']\n",
    "            speed   = wind['speed']\n",
    "            equatorial_cities_df.set_value(index, \"Wind Speed\", speed)\n",
    "            weather_metrics += f\"wind: {speed} \"\n",
    "            \n",
    "            clouds  = response['clouds']\n",
    "            clouds  = clouds['all']\n",
    "            equatorial_cities_df.set_value(index, \"Cloudiness\", clouds)\n",
    "            weather_metrics += f\"clouds: {clouds} \"\n",
    "            \n",
    "            coord   = response['coord']\n",
    "            lon     = coord['lon']\n",
    "            lat     = coord['lat']\n",
    "            equatorial_cities_df.set_value(index, \"Longitude\", lon)\n",
    "            equatorial_cities_df.set_value(index, \"Latitude\",  lat)\n",
    "            weather_metrics += f\"lon: {lon} lat: {lat} \"\n",
    "            \n",
    "            print(weather_metrics)\n",
    "            print('-' * 80)\n",
    "            \n",
    "        else:\n",
    "            # print(response)\n",
    "            use_backup_weather_data = True\n",
    "            print('''\\n WARNING: If you do not get a respond from server do not try to repeat your request immediately, \n",
    "          but only after 10 min. Also, we recommend to store your previous requested data.''')\n",
    "            \n",
    "            print('''\\n          If account exceeds the limits, then a notification about limits exceeding \n",
    "          is sent. If it repeats again, then the account is blocked for an hour. Therefore, \n",
    "          the lock period is increased by one hour until 4 hour block sets. When blocking \n",
    "          repeats the fifth time, then the lock period lasts 24 hours. This rule is cycled. \n",
    "          Please be carefull with the number of API calls you complete''')\n",
    "            print('-' * 80)\n",
    "            break\n",
    "            \n",
    "    except:\n",
    "        continue\n",
    "        \n",
    "print(\"Data Retrieval Complete\")"
   ]
  },
  {
   "cell_type": "markdown",
   "metadata": {},
   "source": [
    "## Scatter Plot of Weather Data"
   ]
  },
  {
   "cell_type": "code",
   "execution_count": 4,
   "metadata": {},
   "outputs": [
    {
     "name": "stdout",
     "output_type": "stream",
     "text": [
      "There are 5 equatorial cities with weather data available in dataframe.\n"
     ]
    },
    {
     "data": {
      "text/html": [
       "<div>\n",
       "<style>\n",
       "    .dataframe thead tr:only-child th {\n",
       "        text-align: right;\n",
       "    }\n",
       "\n",
       "    .dataframe thead th {\n",
       "        text-align: left;\n",
       "    }\n",
       "\n",
       "    .dataframe tbody tr th {\n",
       "        vertical-align: top;\n",
       "    }\n",
       "</style>\n",
       "<table border=\"1\" class=\"dataframe\">\n",
       "  <thead>\n",
       "    <tr style=\"text-align: right;\">\n",
       "      <th></th>\n",
       "      <th>City</th>\n",
       "      <th>Country</th>\n",
       "      <th>Max Temperature</th>\n",
       "      <th>Humidity</th>\n",
       "      <th>Wind Speed</th>\n",
       "      <th>Cloudiness</th>\n",
       "      <th>Longitude</th>\n",
       "      <th>Latitude</th>\n",
       "    </tr>\n",
       "  </thead>\n",
       "  <tbody>\n",
       "    <tr>\n",
       "      <th>0</th>\n",
       "      <td>vaitupu</td>\n",
       "      <td>wf</td>\n",
       "      <td>82.4</td>\n",
       "      <td>79</td>\n",
       "      <td>9.32057</td>\n",
       "      <td>88</td>\n",
       "      <td>-178.8300</td>\n",
       "      <td>-7.4800</td>\n",
       "    </tr>\n",
       "    <tr>\n",
       "      <th>1</th>\n",
       "      <td>saleaula</td>\n",
       "      <td>ws</td>\n",
       "      <td>78.8</td>\n",
       "      <td>79</td>\n",
       "      <td>7.45645</td>\n",
       "      <td>88</td>\n",
       "      <td>-172.3367</td>\n",
       "      <td>-13.4483</td>\n",
       "    </tr>\n",
       "    <tr>\n",
       "      <th>2</th>\n",
       "      <td>samalaeulu</td>\n",
       "      <td>ws</td>\n",
       "      <td>78.8</td>\n",
       "      <td>79</td>\n",
       "      <td>7.45645</td>\n",
       "      <td>88</td>\n",
       "      <td>-172.3106</td>\n",
       "      <td>-13.4974</td>\n",
       "    </tr>\n",
       "    <tr>\n",
       "      <th>3</th>\n",
       "      <td>lufilufi</td>\n",
       "      <td>ws</td>\n",
       "      <td>78.8</td>\n",
       "      <td>87</td>\n",
       "      <td>5.59234</td>\n",
       "      <td>87</td>\n",
       "      <td>-171.6015</td>\n",
       "      <td>-13.8765</td>\n",
       "    </tr>\n",
       "    <tr>\n",
       "      <th>4</th>\n",
       "      <td>samusu</td>\n",
       "      <td>ws</td>\n",
       "      <td>77.0</td>\n",
       "      <td>80</td>\n",
       "      <td>6.21371</td>\n",
       "      <td>88</td>\n",
       "      <td>-171.4300</td>\n",
       "      <td>-14.0057</td>\n",
       "    </tr>\n",
       "  </tbody>\n",
       "</table>\n",
       "</div>"
      ],
      "text/plain": [
       "         City Country  Max Temperature  Humidity  Wind Speed  Cloudiness  \\\n",
       "0     vaitupu      wf             82.4        79     9.32057          88   \n",
       "1    saleaula      ws             78.8        79     7.45645          88   \n",
       "2  samalaeulu      ws             78.8        79     7.45645          88   \n",
       "3    lufilufi      ws             78.8        87     5.59234          87   \n",
       "4      samusu      ws             77.0        80     6.21371          88   \n",
       "\n",
       "   Longitude  Latitude  \n",
       "0  -178.8300   -7.4800  \n",
       "1  -172.3367  -13.4483  \n",
       "2  -172.3106  -13.4974  \n",
       "3  -171.6015  -13.8765  \n",
       "4  -171.4300  -14.0057  "
      ]
     },
     "execution_count": 4,
     "metadata": {},
     "output_type": "execute_result"
    }
   ],
   "source": [
    "# Drop NaN from dataframe and reset index\n",
    "equatorial_cities_df = equatorial_cities_df.dropna(axis=0, how='any').reset_index(drop=True)\n",
    "\n",
    "# Initial weather data collected on April, 01, 2018\n",
    "# equatorial_cities_df.to_csv('equator_weather_data.csv', index=False)\n",
    "\n",
    "# Set date for scatter plot title\n",
    "date = time.strftime(\"%m/%d/%Y\")\n",
    "\n",
    "# API call to Open Weather Map fails use previously stored weather data\n",
    "if use_backup_weather_data:\n",
    "    equatorial_cities_df = pd.read_csv('equator_weather_data.csv')\n",
    "    date                 = '04/01/2018'\n",
    "    \n",
    "print(f\"There are {equatorial_cities_df.shape[0]} equatorial cities with weather data available in dataframe.\")\n",
    "equatorial_cities_df.head()"
   ]
  },
  {
   "cell_type": "code",
   "execution_count": 5,
   "metadata": {
    "collapsed": true
   },
   "outputs": [],
   "source": [
    "def create_scatter(data, **kwargs):\n",
    "    try:\n",
    "        sns.set() # sets seaborn grid\n",
    "        sns.lmplot(x=kwargs['xdata'], y=kwargs['ydata'], data=data, fit_reg=False, legend_out=False)\n",
    "\n",
    "        plt.title(kwargs['title'])\n",
    "        plt.xlabel(kwargs['xlabel'])\n",
    "        plt.ylabel(kwargs['ylabel'])\n",
    "\n",
    "        plt.show()\n",
    "    \n",
    "    except:\n",
    "        print(f\"ERROR: Insufficient weather data given to create scatter plot: '{title}'\")\n",
    "        pass"
   ]
  },
  {
   "cell_type": "markdown",
   "metadata": {},
   "source": [
    "### Latitude vs Temperature Plot"
   ]
  },
  {
   "cell_type": "code",
   "execution_count": 6,
   "metadata": {},
   "outputs": [
    {
     "data": {
      "image/png": "[encoded data removed]",
      "text/plain": [
       "<matplotlib.figure.Figure at 0x104c7fa20>"
      ]
     },
     "metadata": {},
     "output_type": "display_data"
    }
   ],
   "source": [
    "title  = f'City Latitude v. Max Temperature ({date})'\n",
    "xlabel = 'Latitude'\n",
    "ylabel = 'Max Temperature (F)'\n",
    "xdata  = 'Latitude'\n",
    "ydata  = 'Max Temperature'\n",
    "\n",
    "create_scatter(data=equatorial_cities_df, title=title, xlabel=xlabel, ylabel=ylabel, xdata=xdata, ydata=ydata)"
   ]
  },
  {
   "cell_type": "markdown",
   "metadata": {},
   "source": [
    "### Latitude vs. Humidity Plot"
   ]
  },
  {
   "cell_type": "code",
   "execution_count": 7,
   "metadata": {},
   "outputs": [
    {
     "data": {
      "image/png": "[encoded data removed]",
      "text/plain": [
       "<matplotlib.figure.Figure at 0x1a149d7ef0>"
      ]
     },
     "metadata": {},
     "output_type": "display_data"
    }
   ],
   "source": [
    "title  = f'City Latitude v. Humidity ({date})'\n",
    "xlabel = 'Latitude'\n",
    "ylabel = 'Humidity (%)'\n",
    "xdata  = 'Latitude'\n",
    "ydata  = 'Humidity'\n",
    "\n",
    "create_scatter(data=equatorial_cities_df, title=title, xlabel=xlabel, ylabel=ylabel, xdata=xdata, ydata=ydata)"
   ]
  },
  {
   "cell_type": "markdown",
   "metadata": {},
   "source": [
    "### Latitude vs. Cloudiness Plot"
   ]
  },
  {
   "cell_type": "code",
   "execution_count": 8,
   "metadata": {},
   "outputs": [
    {
     "data": {
      "image/png": "[encoded data removed]",
      "text/plain": [
       "<matplotlib.figure.Figure at 0x1a0c6acb70>"
      ]
     },
     "metadata": {},
     "output_type": "display_data"
    }
   ],
   "source": [
    "title  = f'City Latitude v. Cloudiness ({date})'\n",
    "xlabel = 'Latitude'\n",
    "ylabel = 'Cloudiness (%)'\n",
    "xdata  = 'Latitude'\n",
    "ydata  = 'Cloudiness'\n",
    "\n",
    "create_scatter(data=equatorial_cities_df, title=title, xlabel=xlabel, ylabel=ylabel, xdata=xdata, ydata=ydata)"
   ]
  },
  {
   "cell_type": "markdown",
   "metadata": {},
   "source": [
    "### Latitude vs. Wind Speed Plot"
   ]
  },
  {
   "cell_type": "code",
   "execution_count": 9,
   "metadata": {},
   "outputs": [
    {
     "data": {
      "image/png": "[encoded data removed]",
      "text/plain": [
       "<matplotlib.figure.Figure at 0x1a14a00898>"
      ]
     },
     "metadata": {},
     "output_type": "display_data"
    }
   ],
   "source": [
    "title  = f'City Latitude v. Wind Speed ({date})'\n",
    "xlabel = 'Latitude'\n",
    "ylabel = 'Wind Speed (MPH)'\n",
    "xdata  = 'Latitude'\n",
    "ydata  = 'Wind Speed'\n",
    "\n",
    "create_scatter(data=equatorial_cities_df, title=title, xlabel=xlabel, ylabel=ylabel, xdata=xdata, ydata=ydata)"
   ]
  },
  {
   "cell_type": "code",
   "execution_count": null,
   "metadata": {
    "collapsed": true
   },
   "outputs": [],
   "source": []
  }
 ],
 "metadata": {
  "kernelspec": {
   "display_name": "Python 3",
   "language": "python",
   "name": "python3"
  },
  "language_info": {
   "codemirror_mode": {
    "name": "ipython",
    "version": 3
   },
   "file_extension": ".py",
   "mimetype": "text/x-python",
   "name": "python",
   "nbconvert_exporter": "python",
   "pygments_lexer": "ipython3",
   "version": "3.6.3"
  }
 },
 "nbformat": 4,
 "nbformat_minor": 2
}
